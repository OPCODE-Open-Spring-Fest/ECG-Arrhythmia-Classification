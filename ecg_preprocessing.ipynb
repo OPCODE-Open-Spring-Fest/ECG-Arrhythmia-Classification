{
 "cells": [
  {
   "cell_type": "markdown",
   "metadata": {},
   "source": [
    "# ECG Signal Preprocessing\n",
    "\n",
    "This notebook performs preprocessing of ECG signals from the MIT-BIH Arrhythmia Database, including signal filtering, R-peak detection, and beat segmentation."
   ]
  },
  {
   "cell_type": "markdown",
   "metadata": {},
   "source": [
    "Short note: install the `wfdb` package (needed only once in the environment) to read MIT-BIH records."
   ]
  },
  {
   "cell_type": "code",
   "execution_count": 2,
   "metadata": {
    "colab": {
     "base_uri": "https://localhost:8080/"
    },
    "id": "2TbqK_Kheryz",
    "outputId": "881da37c-dfd6-48db-9011-770a4562be2c"
   },
   "outputs": [
    {
     "name": "stdout",
     "output_type": "stream",
     "text": [
      "Requirement already satisfied: wfdb in c:\\users\\gaurav kumar saha\\anaconda3\\lib\\site-packages (4.3.0)\n",
      "Requirement already satisfied: aiohttp>=3.10.11 in c:\\users\\gaurav kumar saha\\anaconda3\\lib\\site-packages (from wfdb) (3.12.15)\n",
      "Requirement already satisfied: fsspec>=2023.10.0 in c:\\users\\gaurav kumar saha\\anaconda3\\lib\\site-packages (from wfdb) (2024.3.1)\n",
      "Requirement already satisfied: matplotlib>=3.2.2 in c:\\users\\gaurav kumar saha\\anaconda3\\lib\\site-packages (from wfdb) (3.8.4)\n",
      "Requirement already satisfied: numpy>=1.26.4 in c:\\users\\gaurav kumar saha\\anaconda3\\lib\\site-packages (from wfdb) (1.26.4)\n",
      "Requirement already satisfied: pandas>=2.2.3 in c:\\users\\gaurav kumar saha\\anaconda3\\lib\\site-packages (from wfdb) (2.3.3)\n",
      "Requirement already satisfied: requests>=2.8.1 in c:\\users\\gaurav kumar saha\\anaconda3\\lib\\site-packages (from wfdb) (2.32.2)\n",
      "Requirement already satisfied: scipy>=1.13.0 in c:\\users\\gaurav kumar saha\\anaconda3\\lib\\site-packages (from wfdb) (1.13.1)\n",
      "Requirement already satisfied: soundfile>=0.10.0 in c:\\users\\gaurav kumar saha\\anaconda3\\lib\\site-packages (from wfdb) (0.13.1)\n",
      "Requirement already satisfied: aiohappyeyeballs>=2.5.0 in c:\\users\\gaurav kumar saha\\anaconda3\\lib\\site-packages (from aiohttp>=3.10.11->wfdb) (2.6.1)\n",
      "Requirement already satisfied: aiosignal>=1.4.0 in c:\\users\\gaurav kumar saha\\anaconda3\\lib\\site-packages (from aiohttp>=3.10.11->wfdb) (1.4.0)\n",
      "Requirement already satisfied: attrs>=17.3.0 in c:\\users\\gaurav kumar saha\\anaconda3\\lib\\site-packages (from aiohttp>=3.10.11->wfdb) (25.3.0)\n",
      "Requirement already satisfied: frozenlist>=1.1.1 in c:\\users\\gaurav kumar saha\\anaconda3\\lib\\site-packages (from aiohttp>=3.10.11->wfdb) (1.4.0)\n",
      "Requirement already satisfied: multidict<7.0,>=4.5 in c:\\users\\gaurav kumar saha\\anaconda3\\lib\\site-packages (from aiohttp>=3.10.11->wfdb) (6.0.4)\n",
      "Requirement already satisfied: propcache>=0.2.0 in c:\\users\\gaurav kumar saha\\anaconda3\\lib\\site-packages (from aiohttp>=3.10.11->wfdb) (0.4.0)\n",
      "Requirement already satisfied: yarl<2.0,>=1.17.0 in c:\\users\\gaurav kumar saha\\anaconda3\\lib\\site-packages (from aiohttp>=3.10.11->wfdb) (1.21.0)\n",
      "Requirement already satisfied: idna>=2.0 in c:\\users\\gaurav kumar saha\\anaconda3\\lib\\site-packages (from yarl<2.0,>=1.17.0->aiohttp>=3.10.11->wfdb) (3.7)\n",
      "Requirement already satisfied: typing-extensions>=4.2 in c:\\users\\gaurav kumar saha\\anaconda3\\lib\\site-packages (from aiosignal>=1.4.0->aiohttp>=3.10.11->wfdb) (4.14.1)\n",
      "Requirement already satisfied: contourpy>=1.0.1 in c:\\users\\gaurav kumar saha\\anaconda3\\lib\\site-packages (from matplotlib>=3.2.2->wfdb) (1.2.0)\n",
      "Requirement already satisfied: cycler>=0.10 in c:\\users\\gaurav kumar saha\\anaconda3\\lib\\site-packages (from matplotlib>=3.2.2->wfdb) (0.11.0)\n",
      "Requirement already satisfied: fonttools>=4.22.0 in c:\\users\\gaurav kumar saha\\anaconda3\\lib\\site-packages (from matplotlib>=3.2.2->wfdb) (4.51.0)\n",
      "Requirement already satisfied: kiwisolver>=1.3.1 in c:\\users\\gaurav kumar saha\\anaconda3\\lib\\site-packages (from matplotlib>=3.2.2->wfdb) (1.4.4)\n",
      "Requirement already satisfied: packaging>=20.0 in c:\\users\\gaurav kumar saha\\anaconda3\\lib\\site-packages (from matplotlib>=3.2.2->wfdb) (23.2)\n",
      "Requirement already satisfied: pillow>=8 in c:\\users\\gaurav kumar saha\\anaconda3\\lib\\site-packages (from matplotlib>=3.2.2->wfdb) (10.3.0)\n",
      "Requirement already satisfied: pyparsing>=2.3.1 in c:\\users\\gaurav kumar saha\\anaconda3\\lib\\site-packages (from matplotlib>=3.2.2->wfdb) (3.0.9)\n",
      "Requirement already satisfied: python-dateutil>=2.7 in c:\\users\\gaurav kumar saha\\anaconda3\\lib\\site-packages (from matplotlib>=3.2.2->wfdb) (2.9.0.post0)\n",
      "Requirement already satisfied: pytz>=2020.1 in c:\\users\\gaurav kumar saha\\anaconda3\\lib\\site-packages (from pandas>=2.2.3->wfdb) (2024.1)\n",
      "Requirement already satisfied: tzdata>=2022.7 in c:\\users\\gaurav kumar saha\\anaconda3\\lib\\site-packages (from pandas>=2.2.3->wfdb) (2023.3)\n",
      "Requirement already satisfied: six>=1.5 in c:\\users\\gaurav kumar saha\\anaconda3\\lib\\site-packages (from python-dateutil>=2.7->matplotlib>=3.2.2->wfdb) (1.16.0)\n",
      "Requirement already satisfied: charset-normalizer<4,>=2 in c:\\users\\gaurav kumar saha\\anaconda3\\lib\\site-packages (from requests>=2.8.1->wfdb) (2.0.4)\n",
      "Requirement already satisfied: urllib3<3,>=1.21.1 in c:\\users\\gaurav kumar saha\\anaconda3\\lib\\site-packages (from requests>=2.8.1->wfdb) (2.5.0)\n",
      "Requirement already satisfied: certifi>=2017.4.17 in c:\\users\\gaurav kumar saha\\anaconda3\\lib\\site-packages (from requests>=2.8.1->wfdb) (2025.8.3)\n",
      "Requirement already satisfied: cffi>=1.0 in c:\\users\\gaurav kumar saha\\anaconda3\\lib\\site-packages (from soundfile>=0.10.0->wfdb) (1.16.0)\n",
      "Requirement already satisfied: pycparser in c:\\users\\gaurav kumar saha\\anaconda3\\lib\\site-packages (from cffi>=1.0->soundfile>=0.10.0->wfdb) (2.21)\n"
     ]
    }
   ],
   "source": [
    "!pip install wfdb"
   ]
  },
  {
   "cell_type": "markdown",
   "metadata": {},
   "source": [
    "### Setup\n",
    "Installing and importing required libraries for ECG signal processing"
   ]
  },
  {
   "cell_type": "markdown",
   "metadata": {},
   "source": [
    "Short note: import signal processing, plotting, and utility libraries used throughout preprocessing."
   ]
  },
  {
   "cell_type": "code",
   "execution_count": 3,
   "metadata": {
    "id": "TojR7uBxYllP"
   },
   "outputs": [],
   "source": [
    "import wfdb\n",
    "import numpy as np\n",
    "import matplotlib.pyplot as plt\n",
    "from scipy.signal import butter, filtfilt\n",
    "from sklearn.preprocessing import LabelEncoder, OneHotEncoder\n",
    "from tqdm import tqdm\n",
    "import os"
   ]
  },
  {
   "cell_type": "markdown",
   "metadata": {},
   "source": [
    "Short note: download the MIT-BIH database locally using wfdb (skip if already present in `data/`)."
   ]
  },
  {
   "cell_type": "code",
   "execution_count": 5,
   "metadata": {
    "colab": {
     "base_uri": "https://localhost:8080/"
    },
    "id": "tEua59imvYcs",
    "outputId": "9cc93a2e-11ee-49ea-d22c-6a97b1f699db"
   },
   "outputs": [
    {
     "name": "stdout",
     "output_type": "stream",
     "text": [
      "Downloading MIT-BIH Arrhythmia Database...\n",
      "Generating record list for: 100\n",
      "Generating record list for: 101\n",
      "Generating record list for: 102\n",
      "Generating record list for: 103\n",
      "Generating record list for: 104\n",
      "Generating record list for: 105\n",
      "Generating record list for: 106\n",
      "Generating record list for: 107\n",
      "Generating record list for: 108\n",
      "Generating record list for: 109\n",
      "Generating record list for: 111\n",
      "Generating record list for: 112\n",
      "Generating record list for: 113\n",
      "Generating record list for: 114\n",
      "Generating record list for: 115\n",
      "Generating record list for: 116\n",
      "Generating record list for: 117\n",
      "Generating record list for: 118\n",
      "Generating record list for: 119\n",
      "Generating record list for: 121\n",
      "Generating record list for: 122\n",
      "Generating record list for: 123\n",
      "Generating record list for: 124\n",
      "Generating record list for: 200\n",
      "Generating record list for: 201\n",
      "Generating record list for: 202\n",
      "Generating record list for: 203\n",
      "Generating record list for: 205\n",
      "Generating record list for: 207\n",
      "Generating record list for: 208\n",
      "Generating record list for: 209\n",
      "Generating record list for: 210\n",
      "Generating record list for: 212\n",
      "Generating record list for: 213\n",
      "Generating record list for: 214\n",
      "Generating record list for: 215\n",
      "Generating record list for: 217\n",
      "Generating record list for: 219\n",
      "Generating record list for: 220\n",
      "Generating record list for: 221\n",
      "Generating record list for: 222\n",
      "Generating record list for: 223\n",
      "Generating record list for: 228\n",
      "Generating record list for: 230\n",
      "Generating record list for: 231\n",
      "Generating record list for: 232\n",
      "Generating record list for: 233\n",
      "Generating record list for: 234\n",
      "Generating list of all files for: 100\n",
      "Generating list of all files for: 101\n",
      "Generating list of all files for: 102\n",
      "Generating list of all files for: 103\n",
      "Generating list of all files for: 104\n",
      "Generating list of all files for: 105\n",
      "Generating list of all files for: 106\n",
      "Generating list of all files for: 107\n",
      "Generating list of all files for: 108\n",
      "Generating list of all files for: 109\n",
      "Generating list of all files for: 111\n",
      "Generating list of all files for: 112\n",
      "Generating list of all files for: 113\n",
      "Generating list of all files for: 114\n",
      "Generating list of all files for: 115\n",
      "Generating list of all files for: 116\n",
      "Generating list of all files for: 117\n",
      "Generating list of all files for: 118\n",
      "Generating list of all files for: 119\n",
      "Generating list of all files for: 121\n",
      "Generating list of all files for: 122\n",
      "Generating list of all files for: 123\n",
      "Generating list of all files for: 124\n",
      "Generating list of all files for: 200\n",
      "Generating list of all files for: 201\n",
      "Generating list of all files for: 202\n",
      "Generating list of all files for: 203\n",
      "Generating list of all files for: 205\n",
      "Generating list of all files for: 207\n",
      "Generating list of all files for: 208\n",
      "Generating list of all files for: 209\n",
      "Generating list of all files for: 210\n",
      "Generating list of all files for: 212\n",
      "Generating list of all files for: 213\n",
      "Generating list of all files for: 214\n",
      "Generating list of all files for: 215\n",
      "Generating list of all files for: 217\n",
      "Generating list of all files for: 219\n",
      "Generating list of all files for: 220\n",
      "Generating list of all files for: 221\n",
      "Generating list of all files for: 222\n",
      "Generating list of all files for: 223\n",
      "Generating list of all files for: 228\n",
      "Generating list of all files for: 230\n",
      "Generating list of all files for: 231\n",
      "Generating list of all files for: 232\n",
      "Generating list of all files for: 233\n",
      "Generating list of all files for: 234\n",
      "Created local base download directory: data/mit-bih-arrhythmia-database-1.0.0\n",
      "Downloading files...\n",
      "Finished downloading files\n",
      "Download complete! Files saved to: data/mit-bih-arrhythmia-database-1.0.0\n"
     ]
    }
   ],
   "source": [
    "print(\"Downloading MIT-BIH Arrhythmia Database...\")\n",
    "download_path = 'data/mit-bih-arrhythmia-database-1.0.0' \n",
    "wfdb.dl_database('mitdb', dl_dir=download_path)\n",
    "print(f\"Download complete! Files saved to: {download_path}\")"
   ]
  },
  {
   "cell_type": "markdown",
   "metadata": {},
   "source": [
    "### Data Download\n",
    "Downloading the MIT-BIH Arrhythmia Database, a standard dataset for ECG analysis"
   ]
  },
  {
   "cell_type": "markdown",
   "metadata": {},
   "source": [
    "Short note: define bandpass filter utilities for denoising ECG signals (0.5–40 Hz typical)."
   ]
  },
  {
   "cell_type": "code",
   "execution_count": 6,
   "metadata": {
    "id": "xlmZZERVeiP3"
   },
   "outputs": [],
   "source": [
    "def butter_bandpass(lowcut, highcut, fs, order=4):\n",
    "    nyq = 0.5 * fs\n",
    "    low = lowcut / nyq\n",
    "    high = highcut / nyq\n",
    "    b, a = butter(order, [low, high], btype='band')\n",
    "    return b, a\n",
    "\n",
    "def bandpass_filter(data, lowcut=0.5, highcut=40, fs=360, order=4):\n",
    "    b, a = butter_bandpass(lowcut, highcut, fs, order=order)\n",
    "    y = filtfilt(b, a, data)\n",
    "    return y"
   ]
  },
  {
   "cell_type": "markdown",
   "metadata": {},
   "source": [
    "### Signal Filtering Functions\n",
    "Implementing bandpass filter for noise removal from ECG signals (0.5-40 Hz)"
   ]
  },
  {
   "cell_type": "markdown",
   "metadata": {},
   "source": [
    "Short note: map raw annotation symbols into grouped beat categories used for modeling."
   ]
  },
  {
   "cell_type": "code",
   "execution_count": 7,
   "metadata": {
    "id": "9p6dw71kfGiJ"
   },
   "outputs": [],
   "source": [
    "def label_group(label):\n",
    "    \"\"\"Group beat types into main categories\"\"\"\n",
    "    if label in ['N', 'L', 'R', 'e', 'j']:\n",
    "        return 'N'  # Normal\n",
    "    elif label in ['A', 'a', 'J', 'S']:\n",
    "        return 'S'  # Supraventricular\n",
    "    elif label in ['V', 'E']:\n",
    "        return 'V'  # Ventricular\n",
    "    elif label in ['F']:\n",
    "        return 'F'  # Fusion\n",
    "    else:\n",
    "        return 'Q'  # Other/Unknown"
   ]
  },
  {
   "cell_type": "markdown",
   "metadata": {},
   "source": [
    "Short note: segment beats around annotated R-peaks and normalize each beat (z-score)."
   ]
  },
  {
   "cell_type": "code",
   "execution_count": null,
   "metadata": {},
   "outputs": [],
   "source": [
    "# Segmentation parameters\n",
    "window_size = 250  # total length\n",
    "pre, post = 100, 150  # samples before and after R-peak\n",
    "\n",
    "all_X = []\n",
    "all_y = []\n",
    "\n",
    "record_files = [f.split('.')[0] for f in os.listdir(download_path) if f.endswith('.dat')]\n",
    "print(f\"\\nFound {len(record_files)} records to process\")\n",
    "\n",
    "for rec_name in tqdm(sorted(record_files), desc=\"Processing records\"):\n",
    "    try:\n",
    "        record = wfdb.rdrecord(os.path.join(download_path, rec_name))\n",
    "        annotation = wfdb.rdann(os.path.join(download_path, rec_name), 'atr')\n",
    "\n",
    "        signal = record.p_signal[:, 0]\n",
    "        filtered_signal = bandpass_filter(signal, fs=record.fs)\n",
    "\n",
    "        ann_samples = annotation.sample\n",
    "        ann_symbols = annotation.symbol\n",
    "\n",
    "        segments = []\n",
    "        labels = []\n",
    "\n",
    "        for i, r_peak in enumerate(ann_samples):\n",
    "            # Skip if segment would be incomplete\n",
    "            if r_peak - pre < 0 or r_peak + post >= len(filtered_signal):\n",
    "                continue\n",
    "\n",
    "            beat_segment = filtered_signal[r_peak - pre:r_peak + post]\n",
    "            segments.append(beat_segment)\n",
    "            labels.append(label_group(ann_symbols[i]))\n",
    "\n",
    "        if len(segments) > 0:\n",
    "            segments = np.array(segments)\n",
    "            labels = np.array(labels)\n",
    "\n",
    "            # Normalize each segment (z-score normalization)\n",
    "            X = (segments - np.mean(segments, axis=1, keepdims=True)) / \",\n",
    "0.000001\n",
    ",\n",
    ",\n",
    ",\n",
    ",\n",
    ",\n",
    "        continue"
   ]
  }
 ],
 "metadata": {
  "accelerator": "GPU",
  "colab": {
   "gpuType": "T4",
   "provenance": []
  },
  "kernelspec": {
   "display_name": "base",
   "language": "python",
   "name": "python3"
  },
  "language_info": {
   "codemirror_mode": {
    "name": "ipython",
    "version": 3
   },
   "file_extension": ".py",
   "mimetype": "text/x-python",
   "name": "python",
   "nbconvert_exporter": "python",
   "pygments_lexer": "ipython3",
   "version": "3.12.4"
  }
 },
 "nbformat": 4,
 "nbformat_minor": 0
}
