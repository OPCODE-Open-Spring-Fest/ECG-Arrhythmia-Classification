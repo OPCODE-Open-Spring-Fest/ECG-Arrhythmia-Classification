{
 "cells": [
  {
   "cell_type": "markdown",
   "metadata": {
    "id": "vglX3vOPxy6w"
   },
   "source": [
    "#### Import Required Libraries"
   ]
  },
  {
   "cell_type": "code",
   "execution_count": 9,
   "metadata": {
    "execution": {
     "iopub.execute_input": "2025-10-17T15:50:09.844744Z",
     "iopub.status.busy": "2025-10-17T15:50:09.843991Z",
     "iopub.status.idle": "2025-10-17T15:50:09.863302Z",
     "shell.execute_reply": "2025-10-17T15:50:09.862515Z",
     "shell.execute_reply.started": "2025-10-17T15:50:09.844717Z"
    },
    "id": "m7uJEJA1x0bL",
    "trusted": true
   },
   "outputs": [],
   "source": [
    "import numpy as np\n",
    "import matplotlib.pyplot as plt\n",
    "import seaborn as sns\n",
    "from sklearn.model_selection import train_test_split\n",
    "from sklearn.metrics import (classification_report, confusion_matrix,\n",
    "                            accuracy_score, precision_recall_fscore_support)\n",
    "import tensorflow as tf\n",
    "from tensorflow import keras\n",
    "from tensorflow.keras import layers, models, callbacks\n",
    "from tensorflow.keras.utils import plot_model\n",
    "\n",
    "# Set random seeds for reproducibility\n",
    "np.random.seed(42)\n",
    "tf.random.set_seed(42)"
   ]
  },
  {
   "cell_type": "code",
   "execution_count": null,
   "metadata": {
    "colab": {
     "base_uri": "https://localhost:8080/"
    },
    "execution": {
     "iopub.execute_input": "2025-10-17T15:50:09.872128Z",
     "iopub.status.busy": "2025-10-17T15:50:09.871620Z",
     "iopub.status.idle": "2025-10-17T15:50:10.191828Z",
     "shell.execute_reply": "2025-10-17T15:50:10.191128Z",
     "shell.execute_reply.started": "2025-10-17T15:50:09.872098Z"
    },
    "id": "Y-8J1FOlx4j3",
    "outputId": "b7aa49a8-61ee-4726-d46e-4badf0c17a87",
    "trusted": true
   },
   "outputs": [
    {
     "name": "stdout",
     "output_type": "stream",
     "text": [
      "Loading preprocessed data...\n",
      "Data shape: X=(112559, 250, 1), y=(112559, 5)\n",
      "Classes: ['F' 'N' 'Q' 'S' 'V']\n"
     ]
    }
   ],
   "source": [
    "print(\"Loading preprocessed data...\")\n",
    "data = np.load('data/ecg_mitdb_processed.npz')\n",
    "X = data['X']\n",
    "y = data['y']\n",
    "label_names = data['label_names']\n",
    "\n",
    "print(f\"Data shape: X={X.shape}, y={y.shape}\")\n",
    "print(f\"Classes: {label_names}\")\n"
   ]
  },
  {
   "cell_type": "code",
   "execution_count": 11,
   "metadata": {
    "colab": {
     "base_uri": "https://localhost:8080/"
    },
    "execution": {
     "iopub.execute_input": "2025-10-17T15:50:10.193383Z",
     "iopub.status.busy": "2025-10-17T15:50:10.193096Z",
     "iopub.status.idle": "2025-10-17T15:50:10.422697Z",
     "shell.execute_reply": "2025-10-17T15:50:10.421984Z",
     "shell.execute_reply.started": "2025-10-17T15:50:10.193363Z"
    },
    "id": "aZGPXypTx-N5",
    "outputId": "1ce032cd-c734-43a4-c75a-e3732020573d",
    "trusted": true
   },
   "outputs": [
    {
     "name": "stdout",
     "output_type": "stream",
     "text": [
      "\n",
      "Splitting data...\n",
      "Train set: 72037 samples\n",
      "Validation set: 18010 samples\n",
      "Test set: 22512 samples\n"
     ]
    }
   ],
   "source": [
    "print(\"\\nSplitting data...\")\n",
    "# First split: 80% train+val, 20% test\n",
    "X_temp, X_test, y_temp, y_test = train_test_split(\n",
    "    X, y, test_size=0.2, random_state=42, stratify=y.argmax(axis=1)\n",
    ")\n",
    "\n",
    "# Second split: 80% train, 20% validation (of the 80%)\n",
    "X_train, X_val, y_train, y_val = train_test_split(\n",
    "    X_temp, y_temp, test_size=0.2, random_state=42, stratify=y_temp.argmax(axis=1)\n",
    ")\n",
    "\n",
    "print(f\"Train set: {X_train.shape[0]} samples\")\n",
    "print(f\"Validation set: {X_val.shape[0]} samples\")\n",
    "print(f\"Test set: {X_test.shape[0]} samples\")\n"
   ]
  },
  {
   "cell_type": "code",
   "execution_count": null,
   "metadata": {
    "trusted": true
   },
   "outputs": [],
   "source": []
  },
  {
   "cell_type": "code",
   "execution_count": 13,
   "metadata": {
    "execution": {
     "iopub.execute_input": "2025-10-17T16:15:19.592866Z",
     "iopub.status.busy": "2025-10-17T16:15:19.592364Z",
     "iopub.status.idle": "2025-10-17T16:59:46.655297Z",
     "shell.execute_reply": "2025-10-17T16:59:46.654497Z",
     "shell.execute_reply.started": "2025-10-17T16:15:19.592840Z"
    },
    "trusted": true
   },
   "outputs": [
    {
     "name": "stdout",
     "output_type": "stream",
     "text": [
      "Trial 12 Complete [00h 02m 58s]\n",
      "val_accuracy: 0.9463075995445251\n",
      "\n",
      "Best val_accuracy So Far: 0.9711271524429321\n",
      "Total elapsed time: 00h 44m 24s\n",
      "\n",
      "🏆 Best Hyperparameters (Focused Quick Scan):\n",
      "lstm1_units: 128\n",
      "bidirectional: True\n",
      "dropout1: 0.2\n",
      "lstm2_units: 40\n",
      "dropout2: 0.30000000000000004\n",
      "dense1_units: 80\n",
      "dense2_units: 32\n",
      "learning_rate: 0.001\n"
     ]
    },
    {
     "name": "stderr",
     "output_type": "stream",
     "text": [
      "/usr/local/lib/python3.11/dist-packages/keras/src/saving/saving_lib.py:757: UserWarning: Skipping variable loading for optimizer 'adam', because it has 2 variables whereas the saved optimizer has 46 variables. \n",
      "  saveable.load_own_variables(weights_store.get(inner_path))\n"
     ]
    }
   ],
   "source": [
    "# ===========================================================\n",
    "# 🎯 Focused Bayesian LSTM Hyperparameter Scan (Quick Version)\n",
    "# ===========================================================\n",
    "\n",
    "import keras_tuner as kt\n",
    "from tensorflow import keras\n",
    "from tensorflow.keras import layers, callbacks, models\n",
    "\n",
    "print(\"\\n🔧 Starting Focused Quick Bayesian Scan...\")\n",
    "\n",
    "# ----------------------------\n",
    "# Early stopping & LR reduction\n",
    "# ----------------------------\n",
    "early_stop = callbacks.EarlyStopping(\n",
    "    monitor='val_loss',\n",
    "    patience=2,\n",
    "    restore_best_weights=True\n",
    ")\n",
    "\n",
    "reduce_lr = callbacks.ReduceLROnPlateau(\n",
    "    monitor='val_loss',\n",
    "    factor=0.5,\n",
    "    patience=2,\n",
    "    min_lr=1e-5\n",
    ")\n",
    "\n",
    "# ----------------------------\n",
    "# Build model (focused search space)\n",
    "# ----------------------------\n",
    "def build_lstm_model(hp):\n",
    "    model = keras.Sequential()\n",
    "\n",
    "    # --- First LSTM layer ---\n",
    "    units1 = hp.Int('lstm1_units', 96, 160, step=32)\n",
    "    bidir = hp.Boolean('bidirectional', default=False)\n",
    "    dropout1 = hp.Float('dropout1', 0.2, 0.4, step=0.1)\n",
    "\n",
    "    lstm1 = layers.LSTM(units1, return_sequences=True, input_shape=(X_train.shape[1], X_train.shape[2]))\n",
    "    if bidir:\n",
    "        lstm1 = layers.Bidirectional(lstm1)\n",
    "    model.add(lstm1)\n",
    "    model.add(layers.Dropout(dropout1))\n",
    "    model.add(layers.BatchNormalization())\n",
    "\n",
    "    # --- Second LSTM layer ---\n",
    "    units2 = hp.Int('lstm2_units', 24, 40, step=8)\n",
    "    dropout2 = hp.Float('dropout2', 0.2, 0.4, step=0.1)\n",
    "    lstm2 = layers.LSTM(units2)\n",
    "    if bidir:\n",
    "        lstm2 = layers.Bidirectional(lstm2)\n",
    "    model.add(lstm2)\n",
    "    model.add(layers.Dropout(dropout2))\n",
    "    model.add(layers.BatchNormalization())\n",
    "\n",
    "    # --- Dense layers ---\n",
    "    dense1 = hp.Int('dense1_units', 48, 80, step=16)\n",
    "    dense2 = hp.Int('dense2_units', 24, 32, step=8)\n",
    "    model.add(layers.Dense(dense1, activation='relu'))\n",
    "    model.add(layers.Dropout(0.3))\n",
    "    model.add(layers.Dense(dense2, activation='relu'))\n",
    "    model.add(layers.Dropout(0.2))\n",
    "\n",
    "    # --- Output layer ---\n",
    "    model.add(layers.Dense(y_train.shape[1], activation='softmax'))\n",
    "\n",
    "    # --- Optimizer ---\n",
    "    lr = hp.Choice('learning_rate', [1e-3, 7e-4, 5e-4])\n",
    "    opt = keras.optimizers.Adam(learning_rate=lr)\n",
    "\n",
    "    model.compile(\n",
    "        optimizer=opt,\n",
    "        loss='categorical_crossentropy',\n",
    "        metrics=['accuracy']\n",
    "    )\n",
    "\n",
    "    return model\n",
    "\n",
    "\n",
    "# ----------------------------\n",
    "# Focused Bayesian tuner (quick version)\n",
    "# ----------------------------\n",
    "tuner = kt.BayesianOptimization(\n",
    "    build_lstm_model,\n",
    "    objective='val_accuracy',\n",
    "    max_trials=12,              \n",
    "    num_initial_points=2,     \n",
    "    overwrite=True\n",
    ")\n",
    "\n",
    "# ----------------------------\n",
    "# Search (short epochs to estimate trend)\n",
    "# ----------------------------\n",
    "tuner.search( \n",
    "    X_train, y_train,\n",
    "    validation_data=(X_val, y_val),\n",
    "    epochs=10,\n",
    "    batch_size=128,\n",
    "    callbacks=[early_stop, reduce_lr],\n",
    "    verbose=1\n",
    ")\n",
    "\n",
    "# ----------------------------\n",
    "# Get best hyperparameters\n",
    "# ----------------------------\n",
    "best_hp = tuner.get_best_hyperparameters(1)[0]\n",
    "best_model = tuner.get_best_models(1)[0]\n",
    "\n",
    "print(\"\\n🏆 Best Hyperparameters (Focused Quick Scan):\")\n",
    "for k, v in best_hp.values.items():\n",
    "    print(f\"{k}: {v}\")\n",
    "\n",
    "# Optional: retrain best model fully\n",
    "# best_model.fit(X_train, y_train, validation_data=(X_val, y_val), epochs=50, batch_size=128)\n"
   ]
  },
  {
   "cell_type": "code",
   "execution_count": 14,
   "metadata": {
    "execution": {
     "iopub.execute_input": "2025-10-17T16:59:46.656644Z",
     "iopub.status.busy": "2025-10-17T16:59:46.656380Z",
     "iopub.status.idle": "2025-10-17T17:17:17.207909Z",
     "shell.execute_reply": "2025-10-17T17:17:17.207305Z",
     "shell.execute_reply.started": "2025-10-17T16:59:46.656626Z"
    },
    "trusted": true
   },
   "outputs": [
    {
     "name": "stdout",
     "output_type": "stream",
     "text": [
      "\n",
      "🏆 Best Hyperparameters (Quick Scan):\n",
      "lstm1_units: 128\n",
      "bidirectional: True\n",
      "dropout1: 0.2\n",
      "lstm2_units: 40\n",
      "dropout2: 0.30000000000000004\n",
      "dense1_units: 80\n",
      "dense2_units: 32\n",
      "learning_rate: 0.001\n",
      "Epoch 1/50\n",
      "\u001b[1m563/563\u001b[0m \u001b[32m━━━━━━━━━━━━━━━━━━━━\u001b[0m\u001b[37m\u001b[0m \u001b[1m46s\u001b[0m 70ms/step - accuracy: 0.9656 - loss: 0.1214 - val_accuracy: 0.9702 - val_loss: 0.0952 - learning_rate: 0.0010\n",
      "Epoch 2/50\n",
      "\u001b[1m563/563\u001b[0m \u001b[32m━━━━━━━━━━━━━━━━━━━━\u001b[0m\u001b[37m\u001b[0m \u001b[1m38s\u001b[0m 68ms/step - accuracy: 0.9690 - loss: 0.1075 - val_accuracy: 0.9693 - val_loss: 0.1014 - learning_rate: 0.0010\n",
      "Epoch 3/50\n",
      "\u001b[1m563/563\u001b[0m \u001b[32m━━━━━━━━━━━━━━━━━━━━\u001b[0m\u001b[37m\u001b[0m \u001b[1m38s\u001b[0m 68ms/step - accuracy: 0.9685 - loss: 0.1081 - val_accuracy: 0.9746 - val_loss: 0.0878 - learning_rate: 0.0010\n",
      "Epoch 4/50\n",
      "\u001b[1m563/563\u001b[0m \u001b[32m━━━━━━━━━━━━━━━━━━━━\u001b[0m\u001b[37m\u001b[0m \u001b[1m38s\u001b[0m 68ms/step - accuracy: 0.9698 - loss: 0.1043 - val_accuracy: 0.9766 - val_loss: 0.0799 - learning_rate: 0.0010\n",
      "Epoch 5/50\n",
      "\u001b[1m563/563\u001b[0m \u001b[32m━━━━━━━━━━━━━━━━━━━━\u001b[0m\u001b[37m\u001b[0m \u001b[1m39s\u001b[0m 68ms/step - accuracy: 0.9732 - loss: 0.0928 - val_accuracy: 0.9739 - val_loss: 0.0861 - learning_rate: 0.0010\n",
      "Epoch 6/50\n",
      "\u001b[1m563/563\u001b[0m \u001b[32m━━━━━━━━━━━━━━━━━━━━\u001b[0m\u001b[37m\u001b[0m \u001b[1m39s\u001b[0m 69ms/step - accuracy: 0.9742 - loss: 0.0915 - val_accuracy: 0.9765 - val_loss: 0.0833 - learning_rate: 0.0010\n",
      "Epoch 7/50\n",
      "\u001b[1m563/563\u001b[0m \u001b[32m━━━━━━━━━━━━━━━━━━━━\u001b[0m\u001b[37m\u001b[0m \u001b[1m39s\u001b[0m 68ms/step - accuracy: 0.9747 - loss: 0.0879 - val_accuracy: 0.9190 - val_loss: 0.2421 - learning_rate: 0.0010\n",
      "Epoch 8/50\n",
      "\u001b[1m563/563\u001b[0m \u001b[32m━━━━━━━━━━━━━━━━━━━━\u001b[0m\u001b[37m\u001b[0m \u001b[1m39s\u001b[0m 68ms/step - accuracy: 0.9740 - loss: 0.0914 - val_accuracy: 0.9807 - val_loss: 0.0683 - learning_rate: 5.0000e-04\n",
      "Epoch 9/50\n",
      "\u001b[1m563/563\u001b[0m \u001b[32m━━━━━━━━━━━━━━━━━━━━\u001b[0m\u001b[37m\u001b[0m \u001b[1m39s\u001b[0m 68ms/step - accuracy: 0.9795 - loss: 0.0721 - val_accuracy: 0.9807 - val_loss: 0.0688 - learning_rate: 5.0000e-04\n",
      "Epoch 10/50\n",
      "\u001b[1m563/563\u001b[0m \u001b[32m━━━━━━━━━━━━━━━━━━━━\u001b[0m\u001b[37m\u001b[0m \u001b[1m39s\u001b[0m 68ms/step - accuracy: 0.9804 - loss: 0.0673 - val_accuracy: 0.9793 - val_loss: 0.0702 - learning_rate: 5.0000e-04\n",
      "Epoch 11/50\n",
      "\u001b[1m563/563\u001b[0m \u001b[32m━━━━━━━━━━━━━━━━━━━━\u001b[0m\u001b[37m\u001b[0m \u001b[1m39s\u001b[0m 68ms/step - accuracy: 0.9827 - loss: 0.0645 - val_accuracy: 0.9821 - val_loss: 0.0632 - learning_rate: 5.0000e-04\n",
      "Epoch 12/50\n",
      "\u001b[1m563/563\u001b[0m \u001b[32m━━━━━━━━━━━━━━━━━━━━\u001b[0m\u001b[37m\u001b[0m \u001b[1m39s\u001b[0m 68ms/step - accuracy: 0.9819 - loss: 0.0636 - val_accuracy: 0.9835 - val_loss: 0.0603 - learning_rate: 5.0000e-04\n",
      "Epoch 13/50\n",
      "\u001b[1m563/563\u001b[0m \u001b[32m━━━━━━━━━━━━━━━━━━━━\u001b[0m\u001b[37m\u001b[0m \u001b[1m39s\u001b[0m 68ms/step - accuracy: 0.9825 - loss: 0.0620 - val_accuracy: 0.9845 - val_loss: 0.0542 - learning_rate: 5.0000e-04\n",
      "Epoch 14/50\n",
      "\u001b[1m563/563\u001b[0m \u001b[32m━━━━━━━━━━━━━━━━━━━━\u001b[0m\u001b[37m\u001b[0m \u001b[1m39s\u001b[0m 68ms/step - accuracy: 0.9825 - loss: 0.0588 - val_accuracy: 0.9842 - val_loss: 0.0553 - learning_rate: 5.0000e-04\n",
      "Epoch 15/50\n",
      "\u001b[1m563/563\u001b[0m \u001b[32m━━━━━━━━━━━━━━━━━━━━\u001b[0m\u001b[37m\u001b[0m \u001b[1m39s\u001b[0m 68ms/step - accuracy: 0.9841 - loss: 0.0560 - val_accuracy: 0.9844 - val_loss: 0.0536 - learning_rate: 5.0000e-04\n",
      "Epoch 16/50\n",
      "\u001b[1m563/563\u001b[0m \u001b[32m━━━━━━━━━━━━━━━━━━━━\u001b[0m\u001b[37m\u001b[0m \u001b[1m39s\u001b[0m 68ms/step - accuracy: 0.9844 - loss: 0.0548 - val_accuracy: 0.9840 - val_loss: 0.0570 - learning_rate: 5.0000e-04\n",
      "Epoch 17/50\n",
      "\u001b[1m563/563\u001b[0m \u001b[32m━━━━━━━━━━━━━━━━━━━━\u001b[0m\u001b[37m\u001b[0m \u001b[1m39s\u001b[0m 68ms/step - accuracy: 0.9852 - loss: 0.0522 - val_accuracy: 0.9847 - val_loss: 0.0560 - learning_rate: 5.0000e-04\n",
      "Epoch 18/50\n",
      "\u001b[1m563/563\u001b[0m \u001b[32m━━━━━━━━━━━━━━━━━━━━\u001b[0m\u001b[37m\u001b[0m \u001b[1m39s\u001b[0m 68ms/step - accuracy: 0.9835 - loss: 0.0568 - val_accuracy: 0.9852 - val_loss: 0.0521 - learning_rate: 5.0000e-04\n",
      "Epoch 19/50\n",
      "\u001b[1m563/563\u001b[0m \u001b[32m━━━━━━━━━━━━━━━━━━━━\u001b[0m\u001b[37m\u001b[0m \u001b[1m39s\u001b[0m 68ms/step - accuracy: 0.9861 - loss: 0.0483 - val_accuracy: 0.9846 - val_loss: 0.0537 - learning_rate: 5.0000e-04\n",
      "Epoch 20/50\n",
      "\u001b[1m563/563\u001b[0m \u001b[32m━━━━━━━━━━━━━━━━━━━━\u001b[0m\u001b[37m\u001b[0m \u001b[1m39s\u001b[0m 69ms/step - accuracy: 0.9864 - loss: 0.0487 - val_accuracy: 0.9856 - val_loss: 0.0523 - learning_rate: 5.0000e-04\n",
      "Epoch 21/50\n",
      "\u001b[1m563/563\u001b[0m \u001b[32m━━━━━━━━━━━━━━━━━━━━\u001b[0m\u001b[37m\u001b[0m \u001b[1m39s\u001b[0m 69ms/step - accuracy: 0.9863 - loss: 0.0482 - val_accuracy: 0.9859 - val_loss: 0.0535 - learning_rate: 5.0000e-04\n",
      "Epoch 22/50\n",
      "\u001b[1m563/563\u001b[0m \u001b[32m━━━━━━━━━━━━━━━━━━━━\u001b[0m\u001b[37m\u001b[0m \u001b[1m39s\u001b[0m 69ms/step - accuracy: 0.9875 - loss: 0.0428 - val_accuracy: 0.9876 - val_loss: 0.0485 - learning_rate: 2.5000e-04\n",
      "Epoch 23/50\n",
      "\u001b[1m563/563\u001b[0m \u001b[32m━━━━━━━━━━━━━━━━━━━━\u001b[0m\u001b[37m\u001b[0m \u001b[1m39s\u001b[0m 68ms/step - accuracy: 0.9886 - loss: 0.0395 - val_accuracy: 0.9860 - val_loss: 0.0527 - learning_rate: 2.5000e-04\n",
      "Epoch 24/50\n",
      "\u001b[1m563/563\u001b[0m \u001b[32m━━━━━━━━━━━━━━━━━━━━\u001b[0m\u001b[37m\u001b[0m \u001b[1m39s\u001b[0m 68ms/step - accuracy: 0.9887 - loss: 0.0390 - val_accuracy: 0.9867 - val_loss: 0.0515 - learning_rate: 2.5000e-04\n",
      "Epoch 25/50\n",
      "\u001b[1m563/563\u001b[0m \u001b[32m━━━━━━━━━━━━━━━━━━━━\u001b[0m\u001b[37m\u001b[0m \u001b[1m39s\u001b[0m 68ms/step - accuracy: 0.9888 - loss: 0.0380 - val_accuracy: 0.9873 - val_loss: 0.0516 - learning_rate: 2.5000e-04\n",
      "Epoch 26/50\n",
      "\u001b[1m563/563\u001b[0m \u001b[32m━━━━━━━━━━━━━━━━━━━━\u001b[0m\u001b[37m\u001b[0m \u001b[1m39s\u001b[0m 68ms/step - accuracy: 0.9901 - loss: 0.0348 - val_accuracy: 0.9870 - val_loss: 0.0509 - learning_rate: 1.2500e-04\n",
      "Epoch 27/50\n",
      "\u001b[1m563/563\u001b[0m \u001b[32m━━━━━━━━━━━━━━━━━━━━\u001b[0m\u001b[37m\u001b[0m \u001b[1m39s\u001b[0m 68ms/step - accuracy: 0.9896 - loss: 0.0349 - val_accuracy: 0.9876 - val_loss: 0.0509 - learning_rate: 1.2500e-04\n"
     ]
    }
   ],
   "source": [
    "best_hp = tuner.get_best_hyperparameters(1)[0]\n",
    "best_model = tuner.get_best_models(1)[0]\n",
    "\n",
    "print(\"\\n🏆 Best Hyperparameters (Quick Scan):\")\n",
    "for k, v in best_hp.values.items():\n",
    "    print(f\"{k}: {v}\")\n",
    "    \n",
    "# Callbacks\n",
    "# ----------------------------\n",
    "early_stop = callbacks.EarlyStopping(\n",
    "    monitor='val_loss', patience=5, restore_best_weights=True\n",
    ")\n",
    "reduce_lr = callbacks.ReduceLROnPlateau(\n",
    "    monitor='val_loss', factor=0.5, patience=3, min_lr=1e-5\n",
    ")\n",
    "\n",
    "\n",
    "history = best_model.fit(\n",
    "    X_train, y_train,\n",
    "    validation_data=(X_val, y_val),\n",
    "    epochs=50,           # full training epochs\n",
    "    batch_size=128,\n",
    "    callbacks=[early_stop, reduce_lr],\n",
    "    verbose=1\n",
    ")\n"
   ]
  },
  {
   "cell_type": "code",
   "execution_count": 20,
   "metadata": {
    "execution": {
     "iopub.execute_input": "2025-10-17T17:34:46.838023Z",
     "iopub.status.busy": "2025-10-17T17:34:46.837659Z",
     "iopub.status.idle": "2025-10-17T17:35:07.302111Z",
     "shell.execute_reply": "2025-10-17T17:35:07.301303Z",
     "shell.execute_reply.started": "2025-10-17T17:34:46.838004Z"
    },
    "trusted": true
   },
   "outputs": [
    {
     "name": "stdout",
     "output_type": "stream",
     "text": [
      "\n",
      "======================================================================\n",
      "EVALUATION ON TEST SET\n",
      "======================================================================\n",
      "\u001b[1m704/704\u001b[0m \u001b[32m━━━━━━━━━━━━━━━━━━━━\u001b[0m\u001b[37m\u001b[0m \u001b[1m10s\u001b[0m 14ms/step\n",
      "\n",
      "Test Loss: 0.0498\n",
      "Test Accuracy: 0.9872\n",
      "\n",
      "Classification Report:\n",
      "              precision    recall  f1-score   support\n",
      "\n",
      "           F     0.9124    0.7812    0.8418       160\n",
      "           N     0.9912    0.9955    0.9933     18119\n",
      "           Q     0.9825    0.9794    0.9809      2230\n",
      "           S     0.9198    0.8669    0.8926       556\n",
      "           V     0.9762    0.9648    0.9705      1447\n",
      "\n",
      "    accuracy                         0.9872     22512\n",
      "   macro avg     0.9564    0.9176    0.9358     22512\n",
      "weighted avg     0.9870    0.9872    0.9870     22512\n",
      "\n",
      "\n",
      "Per-Class Detailed Metrics:\n",
      "----------------------------------------------------------------------\n",
      "Class      Precision    Recall       F1-Score     Support   \n",
      "----------------------------------------------------------------------\n",
      "F          0.9124       0.7812       0.8418       160       \n",
      "N          0.9912       0.9955       0.9933       18119     \n",
      "Q          0.9825       0.9794       0.9809       2230      \n",
      "S          0.9198       0.8669       0.8926       556       \n",
      "V          0.9762       0.9648       0.9705       1447      \n"
     ]
    }
   ],
   "source": [
    "print(\"\\n\" + \"=\"*70)\n",
    "print(\"EVALUATION ON TEST SET\")\n",
    "print(\"=\"*70)\n",
    "\n",
    "# Make predictions\n",
    "\n",
    "y_pred_probs = best_model.predict(X_test)\n",
    "y_pred = np.argmax(y_pred_probs, axis=1)\n",
    "y_true = np.argmax(y_test, axis=1)\n",
    "\n",
    "# Evaluate on test data (only loss and accuracy)\n",
    "\n",
    "test_loss, test_acc = best_model.evaluate(X_test, y_test, verbose=0)\n",
    "print(f\"\\nTest Loss: {test_loss:.4f}\")\n",
    "print(f\"Test Accuracy: {test_acc:.4f}\")\n",
    "\n",
    "# Classification Report\n",
    "\n",
    "print(\"\\nClassification Report:\")\n",
    "print(classification_report(y_true, y_pred, target_names=label_names, digits=4))\n",
    "\n",
    "# Per-class metrics\n",
    "\n",
    "precision, recall, f1, support = precision_recall_fscore_support(y_true, y_pred)\n",
    "print(\"\\nPer-Class Detailed Metrics:\")\n",
    "print(\"-\" * 70)\n",
    "print(f\"{'Class':<10} {'Precision':<12} {'Recall':<12} {'F1-Score':<12} {'Support':<10}\")\n",
    "print(\"-\" * 70)\n",
    "for i, label in enumerate(label_names):\n",
    "    print(f\"{label:<10} {precision[i]:<12.4f} {recall[i]:<12.4f} {f1[i]:<12.4f} {support[i]:<10}\")\n"
   ]
  },
  {
   "cell_type": "code",
   "execution_count": 22,
   "metadata": {
    "execution": {
     "iopub.execute_input": "2025-10-17T17:40:43.142350Z",
     "iopub.status.busy": "2025-10-17T17:40:43.141697Z",
     "iopub.status.idle": "2025-10-17T17:40:43.435605Z",
     "shell.execute_reply": "2025-10-17T17:40:43.434789Z",
     "shell.execute_reply.started": "2025-10-17T17:40:43.142326Z"
    },
    "trusted": true
   },
   "outputs": [
    {
     "name": "stdout",
     "output_type": "stream",
     "text": [
      "\n",
      "======================================================================\n",
      "CONFUSION MATRIX\n",
      "======================================================================\n",
      "\n",
      "Confusion Matrix (raw counts):\n",
      "[[  125    27     1     0     7]\n",
      " [    3 18037    29    37    13]\n",
      " [    0    33  2184     4     9]\n",
      " [    0    67     2   482     5]\n",
      " [    9    34     7     1  1396]]\n"
     ]
    },
    {
     "data": {
      "image/png": "[encoded data removed]",
      "text/plain": [
       "<Figure size 1000x800 with 2 Axes>"
      ]
     },
     "metadata": {},
     "output_type": "display_data"
    }
   ],
   "source": [
    "print(\"\\n\" + \"=\"*70)\n",
    "print(\"CONFUSION MATRIX\")\n",
    "print(\"=\"*70)\n",
    "\n",
    "from sklearn.metrics import confusion_matrix\n",
    "import seaborn as sns\n",
    "import matplotlib.pyplot as plt\n",
    "\n",
    "# Compute confusion matrix\n",
    "\n",
    "cm = confusion_matrix(y_true, y_pred)\n",
    "\n",
    "# Print numeric matrix\n",
    "\n",
    "print(\"\\nConfusion Matrix (raw counts):\")\n",
    "print(cm)\n",
    "\n",
    "# Plot without saving\n",
    "\n",
    "plt.figure(figsize=(10, 8))\n",
    "sns.heatmap(cm, annot=True, fmt='d', cmap='Blues',\n",
    "xticklabels=label_names, yticklabels=label_names)\n",
    "plt.title(\"Confusion Matrix Heatmap\", fontsize=14)\n",
    "plt.xlabel(\"Predicted Label\")\n",
    "plt.ylabel(\"True Label\")\n",
    "plt.tight_layout()\n",
    "plt.show()\n"
   ]
  },
  {
   "cell_type": "code",
   "execution_count": null,
   "metadata": {
    "trusted": true
   },
   "outputs": [],
   "source": []
  }
 ],
 "metadata": {
  "accelerator": "GPU",
  "colab": {
   "gpuType": "T4",
   "provenance": []
  },
  "kaggle": {
   "accelerator": "nvidiaTeslaT4",
   "dataSources": [
    {
     "datasetId": 8508427,
     "sourceId": 13406794,
     "sourceType": "datasetVersion"
    }
   ],
   "dockerImageVersionId": 31154,
   "isGpuEnabled": true,
   "isInternetEnabled": true,
   "language": "python",
   "sourceType": "notebook"
  },
  "kernelspec": {
   "display_name": "Python 3",
   "language": "python",
   "name": "python3"
  },
  "language_info": {
   "codemirror_mode": {
    "name": "ipython",
    "version": 3
   },
   "file_extension": ".py",
   "mimetype": "text/x-python",
   "name": "python",
   "nbconvert_exporter": "python",
   "pygments_lexer": "ipython3",
   "version": "3.11.13"
  }
 },
 "nbformat": 4,
 "nbformat_minor": 4
}
